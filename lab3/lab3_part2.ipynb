{
  "cells": [
    {
      "cell_type": "markdown",
      "metadata": {
        "id": "DxS0V6HE_HOr"
      },
      "source": [
        "Выполнили:\n",
        "\n",
        "Шаллиева Вера Владимировна, поток : 1.1, ИСУ: 367633\n",
        "\n",
        "Черномор Маргарита Дмитриевна, поток 1.1, ИСУ: 369021\n"
      ]
    },
    {
      "cell_type": "markdown",
      "metadata": {
        "id": "E9ByCE-ndfcN"
      },
      "source": [
        "Была выбрана задача Классификации (Сверточная сеть)\n",
        "\n",
        "Набор данных-[\"KMNIST\"](https://github.com/rois-codh/kmnist)\n",
        "\n",
        "Kuzushiji-MNIST содержит 70 000 изображений размером 28x28 в оттенках серого, охватывающих 10 классов (по одному из каждого столбца хираганы), и идеально сбалансирован, как и исходный набор данных MNIST (6000/1000 обучающих/тестирующих изображений для каждого класса)."
      ]
    },
    {
      "cell_type": "code",
      "execution_count": null,
      "metadata": {
        "id": "HdWFlWlk_JtU"
      },
      "outputs": [],
      "source": [
        "import matplotlib.pyplot as plt\n",
        "import torch\n",
        "from torch import nn\n",
        "import numpy as np\n",
        "import torchvision as tv\n",
        "from sklearn.metrics import confusion_matrix\n",
        "import pandas as pd\n",
        "import seaborn as sns"
      ]
    },
    {
      "cell_type": "code",
      "execution_count": null,
      "metadata": {
        "id": "GpbZ86-f_Qfy"
      },
      "outputs": [],
      "source": [
        "BATCH_SIZE=64"
      ]
    },
    {
      "cell_type": "code",
      "execution_count": null,
      "metadata": {
        "colab": {
          "base_uri": "https://localhost:8080/"
        },
        "id": "vahIooM1_TU5",
        "outputId": "6f68a913-04b9-4e66-d362-f065170cd597"
      },
      "outputs": [
        {
          "name": "stdout",
          "output_type": "stream",
          "text": [
            "Downloading http://codh.rois.ac.jp/kmnist/dataset/kmnist/train-images-idx3-ubyte.gz\n",
            "Downloading https://codh.rois.ac.jp/kmnist/dataset/kmnist/train-images-idx3-ubyte.gz to ./KMNIST/raw/train-images-idx3-ubyte.gz\n"
          ]
        },
        {
          "name": "stderr",
          "output_type": "stream",
          "text": [
            "100%|██████████| 18.2M/18.2M [00:11<00:00, 1.58MB/s]\n"
          ]
        },
        {
          "name": "stdout",
          "output_type": "stream",
          "text": [
            "Extracting ./KMNIST/raw/train-images-idx3-ubyte.gz to ./KMNIST/raw\n",
            "\n",
            "Downloading http://codh.rois.ac.jp/kmnist/dataset/kmnist/train-labels-idx1-ubyte.gz\n",
            "Downloading https://codh.rois.ac.jp/kmnist/dataset/kmnist/train-labels-idx1-ubyte.gz to ./KMNIST/raw/train-labels-idx1-ubyte.gz\n"
          ]
        },
        {
          "name": "stderr",
          "output_type": "stream",
          "text": [
            "100%|██████████| 29.5k/29.5k [00:00<00:00, 280kB/s]\n"
          ]
        },
        {
          "name": "stdout",
          "output_type": "stream",
          "text": [
            "Extracting ./KMNIST/raw/train-labels-idx1-ubyte.gz to ./KMNIST/raw\n",
            "\n",
            "Downloading http://codh.rois.ac.jp/kmnist/dataset/kmnist/t10k-images-idx3-ubyte.gz\n",
            "Downloading https://codh.rois.ac.jp/kmnist/dataset/kmnist/t10k-images-idx3-ubyte.gz to ./KMNIST/raw/t10k-images-idx3-ubyte.gz\n"
          ]
        },
        {
          "name": "stderr",
          "output_type": "stream",
          "text": [
            "100%|██████████| 3.04M/3.04M [00:01<00:00, 1.57MB/s]\n"
          ]
        },
        {
          "name": "stdout",
          "output_type": "stream",
          "text": [
            "Extracting ./KMNIST/raw/t10k-images-idx3-ubyte.gz to ./KMNIST/raw\n",
            "\n",
            "Downloading http://codh.rois.ac.jp/kmnist/dataset/kmnist/t10k-labels-idx1-ubyte.gz\n",
            "Downloading https://codh.rois.ac.jp/kmnist/dataset/kmnist/t10k-labels-idx1-ubyte.gz to ./KMNIST/raw/t10k-labels-idx1-ubyte.gz\n"
          ]
        },
        {
          "name": "stderr",
          "output_type": "stream",
          "text": [
            "100%|██████████| 5.12k/5.12k [00:00<00:00, 5.17MB/s]"
          ]
        },
        {
          "name": "stdout",
          "output_type": "stream",
          "text": [
            "Extracting ./KMNIST/raw/t10k-labels-idx1-ubyte.gz to ./KMNIST/raw\n",
            "\n"
          ]
        },
        {
          "name": "stderr",
          "output_type": "stream",
          "text": [
            "\n"
          ]
        }
      ],
      "source": [
        "train_dataset = tv.datasets.KMNIST(\n",
        "    root='.', train=True, transform=tv.transforms.ToTensor(), download=True\n",
        ")\n",
        "test_dataset = tv.datasets.KMNIST(\n",
        "    root='.', train=False, transform=tv.transforms.ToTensor(), download=True\n",
        ")\n",
        "train = torch.utils.data.DataLoader(train_dataset, batch_size=BATCH_SIZE, shuffle=True)\n",
        "test = torch.utils.data.DataLoader(test_dataset, batch_size=BATCH_SIZE)"
      ]
    },
    {
      "cell_type": "code",
      "execution_count": null,
      "metadata": {
        "colab": {
          "base_uri": "https://localhost:8080/"
        },
        "collapsed": true,
        "id": "Z8L6ipR9DjUA",
        "outputId": "6b02700b-04f7-4dc4-dc2a-b0f16659fc0f"
      },
      "outputs": [
        {
          "data": {
            "text/plain": [
              "['o', 'ki', 'su', 'tsu', 'na', 'ha', 'ma', 'ya', 're', 'wo']"
            ]
          },
          "execution_count": 5,
          "metadata": {},
          "output_type": "execute_result"
        }
      ],
      "source": [
        "train_dataset.classes"
      ]
    },
    {
      "cell_type": "code",
      "execution_count": null,
      "metadata": {
        "colab": {
          "base_uri": "https://localhost:8080/",
          "height": 430
        },
        "id": "c0_AlSanDupW",
        "outputId": "02785691-f9de-42fe-d83a-adacef0be117"
      },
      "outputs": [
        {
          "data": {
            "image/png": "[encoded data removed]",
            "text/plain": [
              "<Figure size 640x480 with 1 Axes>"
            ]
          },
          "metadata": {},
          "output_type": "display_data"
        }
      ],
      "source": [
        "plt.imshow(train_dataset[123][0].numpy().reshape(28,28), cmap='gray_r');"
      ]
    },
    {
      "cell_type": "code",
      "execution_count": null,
      "metadata": {
        "colab": {
          "base_uri": "https://localhost:8080/"
        },
        "id": "8QatqFpnjiG4",
        "outputId": "29c0109e-fbe4-4437-8f96-130849e2aa65"
      },
      "outputs": [
        {
          "data": {
            "text/plain": [
              "(1, 28, 28)"
            ]
          },
          "execution_count": 7,
          "metadata": {},
          "output_type": "execute_result"
        }
      ],
      "source": [
        "train_dataset[123][0].numpy().shape"
      ]
    },
    {
      "cell_type": "code",
      "execution_count": null,
      "metadata": {
        "id": "Dk4Gdow0j-W3"
      },
      "outputs": [],
      "source": [
        "model = nn.Sequential(\n",
        "    nn.Conv2d(1, 6, kernel_size=5, padding=2),\n",
        "    nn.ReLU(),\n",
        "    nn.MaxPool2d(2, stride=2),\n",
        "    nn.Conv2d(6, 12, kernel_size=5),\n",
        "    nn.ReLU(),\n",
        "    nn.MaxPool2d(2, stride=2),\n",
        "    nn.Flatten(),\n",
        "    nn.Linear(300, 50),\n",
        "    nn.ReLU(),\n",
        "    nn.Linear(50, 10)\n",
        ")"
      ]
    },
    {
      "cell_type": "code",
      "execution_count": null,
      "metadata": {
        "colab": {
          "base_uri": "https://localhost:8080/"
        },
        "id": "GEjDveI7kCBb",
        "outputId": "4f801ec3-2246-49ce-ce99-3a100d4c7dc7"
      },
      "outputs": [
        {
          "name": "stdout",
          "output_type": "stream",
          "text": [
            "torch.Size([1, 1, 28, 28])\n",
            "Layer Conv2d(1, 6, kernel_size=(5, 5), stride=(1, 1), padding=(2, 2)). X shape: torch.Size([1, 6, 28, 28])\n",
            "Layer ReLU(). X shape: torch.Size([1, 6, 28, 28])\n",
            "Layer MaxPool2d(kernel_size=2, stride=2, padding=0, dilation=1, ceil_mode=False). X shape: torch.Size([1, 6, 14, 14])\n",
            "Layer Conv2d(6, 12, kernel_size=(5, 5), stride=(1, 1)). X shape: torch.Size([1, 12, 10, 10])\n",
            "Layer ReLU(). X shape: torch.Size([1, 12, 10, 10])\n",
            "Layer MaxPool2d(kernel_size=2, stride=2, padding=0, dilation=1, ceil_mode=False). X shape: torch.Size([1, 12, 5, 5])\n",
            "Layer Flatten(start_dim=1, end_dim=-1). X shape: torch.Size([1, 300])\n",
            "Layer Linear(in_features=300, out_features=50, bias=True). X shape: torch.Size([1, 50])\n",
            "Layer ReLU(). X shape: torch.Size([1, 50])\n",
            "Layer Linear(in_features=50, out_features=10, bias=True). X shape: torch.Size([1, 10])\n"
          ]
        }
      ],
      "source": [
        "X = train_dataset[0][0]\n",
        "X = X.reshape(1, 1, 28, 28)\n",
        "print(X.shape)\n",
        "for l in model:\n",
        "    X = l(X)\n",
        "    print(\"Layer {}. X shape: {}\".format(l, X.shape))"
      ]
    },
    {
      "cell_type": "code",
      "execution_count": null,
      "metadata": {
        "colab": {
          "base_uri": "https://localhost:8080/"
        },
        "id": "0JtL2xmdkO3R",
        "outputId": "7ee6e1c1-87ad-49d1-d19a-44d21191316a"
      },
      "outputs": [
        {
          "name": "stdout",
          "output_type": "stream",
          "text": [
            "torch.Size([1, 10])\n"
          ]
        }
      ],
      "source": [
        "X = train_dataset[0][0]\n",
        "X = X.reshape(1, 1, 28, 28)\n",
        "y = model(X)\n",
        "print(y.shape)"
      ]
    },
    {
      "cell_type": "code",
      "execution_count": null,
      "metadata": {
        "colab": {
          "base_uri": "https://localhost:8080/"
        },
        "id": "qTX0BpG6kVec",
        "outputId": "c80d0d34-5257-42b6-f43d-91c37b9c16c6"
      },
      "outputs": [
        {
          "data": {
            "text/plain": [
              "device(type='cuda')"
            ]
          },
          "execution_count": 11,
          "metadata": {},
          "output_type": "execute_result"
        }
      ],
      "source": [
        "dev = torch.device(\"cuda\") if torch.cuda.is_available() else torch.device(\"cpu\")\n",
        "dev"
      ]
    },
    {
      "cell_type": "code",
      "execution_count": null,
      "metadata": {
        "id": "90LprvsMkZO7"
      },
      "outputs": [],
      "source": [
        "model = model.to(dev)"
      ]
    },
    {
      "cell_type": "code",
      "execution_count": null,
      "metadata": {
        "id": "kLqNN42mkkbJ"
      },
      "outputs": [],
      "source": [
        "def evaluate_accuracy(data_iter, net, dev):\n",
        "    acc_sum, n = torch.Tensor([0]).to(dev), 0\n",
        "    for X, y in data_iter:\n",
        "        X, y = X.to(dev), y.to(dev)\n",
        "        acc_sum += (net(X).argmax(axis=1) == y).sum()\n",
        "        n += y.shape[0]\n",
        "    return acc_sum.item() / n"
      ]
    },
    {
      "cell_type": "code",
      "execution_count": null,
      "metadata": {
        "id": "ngMyOi5PkoSG"
      },
      "outputs": [],
      "source": [
        "def train_model(net, train_iter, test_iter, trainer, num_epochs):\n",
        "    loss = nn.CrossEntropyLoss(reduction='sum')\n",
        "    for epoch in range(num_epochs):\n",
        "        train_l_sum, train_acc_sum, n = 0.0, 0.0, 0\n",
        "        net.train()\n",
        "        for X, y in train_iter:\n",
        "            trainer.zero_grad()\n",
        "            X, y = X.to(dev), y.to(dev)\n",
        "            y_hat = net(X)\n",
        "            l = loss(y_hat, y)\n",
        "            l.backward()\n",
        "            trainer.step()\n",
        "            train_l_sum += l.item()\n",
        "            train_acc_sum += (y_hat.argmax(axis=1) == y).sum().item()\n",
        "            n += y.shape[0]\n",
        "        test_acc = evaluate_accuracy(test_iter, net, dev)\n",
        "        print('epoch %d, loss %.4f, train acc %.3f, test acc %.3f'\n",
        "              % (epoch + 1, train_l_sum / n, train_acc_sum / n, test_acc))"
      ]
    },
    {
      "cell_type": "code",
      "execution_count": null,
      "metadata": {
        "colab": {
          "base_uri": "https://localhost:8080/"
        },
        "id": "ZOenPFZHkqqB",
        "outputId": "4b63742b-2698-4065-8736-a08498be38ff"
      },
      "outputs": [
        {
          "name": "stdout",
          "output_type": "stream",
          "text": [
            "epoch 1, loss 0.6072, train acc 0.800, test acc 0.843\n",
            "epoch 2, loss 0.1918, train acc 0.941, test acc 0.880\n",
            "epoch 3, loss 0.1367, train acc 0.958, test acc 0.898\n",
            "epoch 4, loss 0.1075, train acc 0.967, test acc 0.909\n",
            "epoch 5, loss 0.0890, train acc 0.972, test acc 0.917\n",
            "epoch 6, loss 0.0774, train acc 0.976, test acc 0.918\n",
            "epoch 7, loss 0.0671, train acc 0.979, test acc 0.928\n",
            "epoch 8, loss 0.0585, train acc 0.982, test acc 0.927\n",
            "epoch 9, loss 0.0509, train acc 0.984, test acc 0.933\n",
            "epoch 10, loss 0.0461, train acc 0.986, test acc 0.930\n",
            "CPU times: user 1min 23s, sys: 582 ms, total: 1min 24s\n",
            "Wall time: 1min 26s\n"
          ]
        }
      ],
      "source": [
        "lr, num_epochs = 0.001, 10\n",
        "trainer = torch.optim.SGD(model.parameters(), lr=lr)\n",
        "%time train_model(model, train, test, trainer, num_epochs)"
      ]
    },
    {
      "cell_type": "markdown",
      "metadata": {
        "id": "M8NQd4HnuZKD"
      },
      "source": [
        "Ср: 0.14322;  Самое большое значение Loss: 0.6072\n",
        "\n",
        "Ср:  0.9545 (95%); Самая высокая Train Accuracy: 0.986 (98%)\n",
        "\n",
        "Ср: 0.9083 (90%);  Самая высокая Test Accuracy: 0.933 (93%)\n",
        "\n",
        "\n",
        "\n",
        "\n",
        "\n"
      ]
    },
    {
      "cell_type": "markdown",
      "metadata": {
        "id": "SGExaRaD3Ars"
      },
      "source": [
        "Уже достаточно высокие показатели, но стоит посмотреть как мы может улучшить значения благодаря свёрточной сети"
      ]
    },
    {
      "cell_type": "code",
      "execution_count": 16,
      "metadata": {
        "colab": {
          "base_uri": "https://localhost:8080/"
        },
        "id": "YWDtOIPFu229",
        "outputId": "28d89bb6-8cd1-41d1-8677-147f6bd9f92c"
      },
      "outputs": [
        {
          "output_type": "stream",
          "name": "stdout",
          "text": [
            "epoch 1, loss 0.2216, train acc 0.930, test acc 0.904\n",
            "epoch 2, loss 0.0856, train acc 0.973, test acc 0.932\n",
            "epoch 3, loss 0.0618, train acc 0.981, test acc 0.935\n",
            "epoch 4, loss 0.0509, train acc 0.984, test acc 0.945\n",
            "epoch 5, loss 0.0449, train acc 0.986, test acc 0.948\n",
            "epoch 6, loss 0.0365, train acc 0.989, test acc 0.952\n",
            "epoch 7, loss 0.0318, train acc 0.990, test acc 0.950\n",
            "epoch 8, loss 0.0284, train acc 0.991, test acc 0.955\n",
            "epoch 9, loss 0.0285, train acc 0.992, test acc 0.948\n",
            "epoch 10, loss 0.0255, train acc 0.992, test acc 0.955\n",
            "CPU times: user 1min 52s, sys: 513 ms, total: 1min 52s\n",
            "Wall time: 1min 53s\n"
          ]
        }
      ],
      "source": [
        "model = nn.Sequential(\n",
        "    nn.Conv2d(1, 64, kernel_size=3, padding=2),\n",
        "    nn.MaxPool2d(3, stride=2, padding=1),\n",
        "    nn.ReLU(),\n",
        "    nn.Conv2d(64, 64, kernel_size=5, padding=2),\n",
        "    nn.MaxPool2d(3, stride=2, padding=1),\n",
        "    nn.ReLU(),\n",
        "    nn.Conv2d(64, 128, kernel_size=3, padding=2),\n",
        "    nn.MaxPool2d(2, stride=2, padding=1),\n",
        "    nn.ReLU(),\n",
        "    nn.Flatten(),\n",
        "    nn.BatchNorm1d(4608),\n",
        "    nn.Linear(4608, 512),\n",
        "    nn.ReLU(),\n",
        "    nn.Dropout(0.5),\n",
        "    nn.Linear(512, 1024),\n",
        "    nn.ReLU(),\n",
        "    nn.Dropout(0.2),\n",
        "    nn.Linear(1024, 10),\n",
        ").to(dev)\n",
        "lr, num_epochs = 0.0003, 10\n",
        "trainer = torch.optim.Adam(model.parameters(), lr=lr)\n",
        "%time train_model(model, train, test, trainer, num_epochs)"
      ]
    },
    {
      "cell_type": "markdown",
      "source": [
        "Ср: 0.06155;  Самое большое значение Loss: 0.6072\n",
        "\n",
        "Ср:  0.9808 (98%); Самая высокая Train Accuracy: 0.992 (99%)\n",
        "\n",
        "Ср: 0.9424 (94%);  Самая высокая Test Accuracy:0.955 (95%)"
      ],
      "metadata": {
        "id": "yrOJkqo4gUhR"
      }
    },
    {
      "cell_type": "markdown",
      "source": [
        "Сверточной сетью удалось повысить точность с 93.3% до 95.5%, а так же увеличился средний показатель с 90.8% на 94.2%. А так же значение функции потерь уменьшается в разы быстрее"
      ],
      "metadata": {
        "id": "9Jlz8FgFgpZS"
      }
    },
    {
      "cell_type": "code",
      "execution_count": 17,
      "metadata": {
        "id": "IRyrpY7PT9se"
      },
      "outputs": [],
      "source": [
        "y_true = []\n",
        "y_pred_2 = []\n",
        "for X, y in test:\n",
        "  X, y = X.to(dev), y.to(dev)\n",
        "  y_pred_1 = model(X)\n",
        "  y_true.extend(y)\n",
        "  y_pred_2.extend(y_pred_1.argmax(dim=1))"
      ]
    },
    {
      "cell_type": "code",
      "execution_count": 18,
      "metadata": {
        "id": "ZDf4vHVuUAcC"
      },
      "outputs": [],
      "source": [
        "y_true = [i.item() for i in y_true]\n",
        "y_pred_2 = [i.item() for i in y_pred_2]"
      ]
    },
    {
      "cell_type": "code",
      "execution_count": 21,
      "metadata": {
        "id": "jkcFyxk8UHlE"
      },
      "outputs": [],
      "source": [
        "conf_mx = confusion_matrix(y_true, y_pred_2, normalize=\"pred\")"
      ]
    },
    {
      "cell_type": "code",
      "execution_count": 22,
      "metadata": {
        "id": "_a-f5annUKDZ",
        "colab": {
          "base_uri": "https://localhost:8080/",
          "height": 599
        },
        "outputId": "0da449a1-08cb-448f-9b42-ddcbb9eeb07c"
      },
      "outputs": [
        {
          "output_type": "display_data",
          "data": {
            "text/plain": [
              "<Figure size 1200x700 with 2 Axes>"
            ],
            "image/png": "[encoded data removed]"
          },
          "metadata": {}
        }
      ],
      "source": [
        "df_cm = pd.DataFrame(conf_mx, index=test_dataset.class_to_idx,\n",
        "                     columns=test_dataset.classes)\n",
        "plt.figure(figsize = (12,7))\n",
        "sns.heatmap(df_cm, annot=True, cmap=\"YlOrBr\");"
      ]
    },
    {
      "cell_type": "markdown",
      "source": [
        "У иероглифов, таких как **o, ki, su, ha**, значения на диагонали высоки,модель уверенно распознает их. Показатели свыше **94%**, выбивается только **ma**, весьма путается с **ki** ; есть ещё **su**, который путается с **tsu**\n",
        "\n"
      ],
      "metadata": {
        "id": "Bd2yqTAQhRJS"
      }
    },
    {
      "cell_type": "markdown",
      "metadata": {
        "id": "pMtFpkGMXddt"
      },
      "source": [
        "#Изменения Гиперпараметров"
      ]
    },
    {
      "cell_type": "markdown",
      "source": [
        "чтобы попробовать довести модель до идеала, попробуем поменять гиперпараметры"
      ],
      "metadata": {
        "id": "j2ot0ISjiVIP"
      }
    },
    {
      "cell_type": "code",
      "execution_count": 37,
      "metadata": {
        "id": "nfcNkV30VBAr"
      },
      "outputs": [],
      "source": [
        "BATCH_SIZE=32"
      ]
    },
    {
      "cell_type": "markdown",
      "source": [
        "На всякий случай уменьшаем нагрузку, будет обрабатывается меньше данных за один шаг"
      ],
      "metadata": {
        "id": "dLt50TVxlsVx"
      }
    },
    {
      "cell_type": "code",
      "execution_count": 38,
      "metadata": {
        "id": "JwNatrSDVD-y"
      },
      "outputs": [],
      "source": [
        "\n",
        "train_dataset = tv.datasets.KMNIST(\n",
        "    root='.', train=True, transform=tv.transforms.ToTensor(), download=True\n",
        ")\n",
        "test_dataset = tv.datasets.KMNIST(\n",
        "    root='.', train=False, transform=tv.transforms.ToTensor(), download=True\n",
        ")\n",
        "train = torch.utils.data.DataLoader(train_dataset, batch_size=BATCH_SIZE, shuffle=True)\n",
        "test = torch.utils.data.DataLoader(test_dataset, batch_size=BATCH_SIZE)"
      ]
    },
    {
      "cell_type": "code",
      "execution_count": 39,
      "metadata": {
        "colab": {
          "base_uri": "https://localhost:8080/"
        },
        "id": "YMZpI_9BVAXW",
        "outputId": "bcfa74d7-d7d1-4e2d-a614-6d923c4a4621"
      },
      "outputs": [
        {
          "output_type": "stream",
          "name": "stdout",
          "text": [
            "epoch 1, loss 0.2266, train acc 0.929, test acc 0.899\n",
            "epoch 2, loss 0.0821, train acc 0.975, test acc 0.937\n",
            "epoch 3, loss 0.0554, train acc 0.983, test acc 0.951\n",
            "epoch 4, loss 0.0444, train acc 0.986, test acc 0.950\n",
            "epoch 5, loss 0.0353, train acc 0.989, test acc 0.950\n",
            "epoch 6, loss 0.0283, train acc 0.991, test acc 0.960\n",
            "epoch 7, loss 0.0270, train acc 0.992, test acc 0.960\n",
            "epoch 8, loss 0.0219, train acc 0.994, test acc 0.953\n",
            "epoch 9, loss 0.0202, train acc 0.994, test acc 0.956\n",
            "epoch 10, loss 0.0190, train acc 0.994, test acc 0.960\n",
            "CPU times: user 2min 20s, sys: 779 ms, total: 2min 21s\n",
            "Wall time: 2min 26s\n"
          ]
        }
      ],
      "source": [
        "model = nn.Sequential(\n",
        "    nn.Conv2d(1, 32, kernel_size=3, padding=1),\n",
        "    nn.BatchNorm2d(32),\n",
        "    nn.ReLU(),\n",
        "    nn.MaxPool2d(2, 2),  # Output: (32, 14, 14)\n",
        "\n",
        "    nn.Conv2d(32, 64, kernel_size=3, padding=1),\n",
        "    nn.BatchNorm2d(64),\n",
        "    nn.ReLU(),\n",
        "    nn.MaxPool2d(2, 2),  # Output: (64, 7, 7)\n",
        "\n",
        "    nn.Conv2d(64, 128, kernel_size=3, padding=1),\n",
        "    nn.BatchNorm2d(128),\n",
        "    nn.ReLU(),\n",
        "    nn.MaxPool2d(2, 2),  # Output: (128, 3, 3)\n",
        "\n",
        "    nn.Flatten(),  # Преобразование в (128 * 3 * 3 = 1152)\n",
        "    nn.Linear(128 * 3 * 3, 256),\n",
        "    nn.ReLU(),\n",
        "    nn.Dropout(0.4),\n",
        "    nn.Linear(256, 128),\n",
        "    nn.ReLU(),\n",
        "    nn.Linear(128, 10)\n",
        ").to(dev)\n",
        "\n",
        "trainer = torch.optim.Adam(model.parameters(), lr=0.001, weight_decay=1e-4)\n",
        "%time train_model(model, train, test, trainer, num_epochs)\n"
      ]
    },
    {
      "cell_type": "markdown",
      "source": [
        "Изменения:\n",
        "\n",
        "\n",
        "1.   Количество фильтров увеличивается от 32 до 128\n",
        "2.   Полносвязные слои с 256 и 128 нейронами\n",
        "3.   Используется Dropout(0.4)\n",
        "4.   Оптимизатор Adam с learning rate 0.001\n",
        "\n"
      ],
      "metadata": {
        "id": "-6AevKSlmROO"
      }
    },
    {
      "cell_type": "markdown",
      "source": [
        "Мы смогли поднять test acc с 95.5% до 96%. Изменения совсем незначительные, но они есть. Прошлые гиперпараметры были подходящими, но нынешняя фокусируется на простоте, с меньшим количеством параметров и стандартными свёрточными ядрами, но выдаёт не менее хороший результат"
      ],
      "metadata": {
        "id": "LguV5Ui9msjb"
      }
    }
  ],
  "metadata": {
    "accelerator": "GPU",
    "colab": {
      "gpuType": "T4",
      "provenance": []
    },
    "kernelspec": {
      "display_name": "Python 3",
      "name": "python3"
    },
    "language_info": {
      "name": "python"
    }
  },
  "nbformat": 4,
  "nbformat_minor": 0
}