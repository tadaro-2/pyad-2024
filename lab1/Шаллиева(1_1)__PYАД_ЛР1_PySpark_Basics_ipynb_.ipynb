{
  "nbformat": 4,
  "nbformat_minor": 0,
  "metadata": {
    "colab": {
      "provenance": []
    },
    "kernelspec": {
      "name": "python3",
      "display_name": "Python 3"
    },
    "language_info": {
      "name": "python"
    }
  },
  "cells": [
    {
      "cell_type": "markdown",
      "source": [
        "## Данные"
      ],
      "metadata": {
        "id": "_hnS7THrsGgz"
      }
    },
    {
      "cell_type": "markdown",
      "source": [
        "Об авиаперевозках с 1987 года: https://www.transtats.bts.gov/Tables.asp?QO_VQ=EFD&QO_anzr=Nv4yv0r%FDb0-gvzr%FDcr4s14zn0pr%FDQn6n&QO_fu146_anzr=b0-gvzr\n",
        "\n",
        "Ниже скачиваются только данные за часть 2023 и 2024 годов."
      ],
      "metadata": {
        "id": "fJhG7ScHBLjr"
      }
    },
    {
      "cell_type": "code",
      "source": [
        "!gdown 1NQuold7jvGZfHikbvtj0QynbhM90pT8L\n",
        "!gdown 1HNAGhPHE6BmamcI0D767-BFhF4BWs6Hh\n",
        "!gdown 1ERgltJRuybLl7sIUUVckzpUVzyP1ttCq\n",
        "!gdown 1XrUk6ZYwQLQTjtsMHKxzzERP4dCLMEao\n",
        "!gdown 1qy95Qpd93VClYPethMtMDJdAMBl21fnW\n",
        "!gdown 1js5pbc_xe6kP7W4_lp6HaeXR0oAw2ZDL\n",
        "!gdown 1qb4_uKGy0KU_4jRzaauqeObaaCQMtdBZ\n",
        "!gdown 1TuC71TgrJDgpOvQVKl9jn89fAr9El1Pa\n",
        "!gdown 1nt7e9Pszf2-IB3GsKHNRHZ_SPzxS0E2L\n",
        "!gdown 1V5tCiD9jRCss0KoJxk-r1zOCw3onwez3\n",
        "!gdown 1WsKGiVBV2p-sgiDePT6HZKUezWPc2zUH"
      ],
      "metadata": {
        "colab": {
          "base_uri": "https://localhost:8080/"
        },
        "id": "a76Yg4c8sJf7",
        "outputId": "58738422-3244-4cec-b46f-13a9f7a761d3",
        "collapsed": true
      },
      "execution_count": 1,
      "outputs": [
        {
          "output_type": "stream",
          "name": "stdout",
          "text": [
            "Downloading...\n",
            "From: https://drive.google.com/uc?id=1NQuold7jvGZfHikbvtj0QynbhM90pT8L\n",
            "To: /content/T_ONTIME_REPORTING.csv\n",
            "100% 67.6M/67.6M [00:01<00:00, 60.6MB/s]\n",
            "Downloading...\n",
            "From: https://drive.google.com/uc?id=1HNAGhPHE6BmamcI0D767-BFhF4BWs6Hh\n",
            "To: /content/T_ONTIME_REPORTING 2.csv\n",
            "100% 66.4M/66.4M [00:00<00:00, 171MB/s]\n",
            "Downloading...\n",
            "From: https://drive.google.com/uc?id=1ERgltJRuybLl7sIUUVckzpUVzyP1ttCq\n",
            "To: /content/T_ONTIME_REPORTING 3.csv\n",
            "100% 61.6M/61.6M [00:00<00:00, 94.1MB/s]\n",
            "Downloading...\n",
            "From: https://drive.google.com/uc?id=1XrUk6ZYwQLQTjtsMHKxzzERP4dCLMEao\n",
            "To: /content/T_ONTIME_REPORTING 4.csv\n",
            "100% 71.8M/71.8M [00:00<00:00, 109MB/s]\n",
            "Downloading...\n",
            "From: https://drive.google.com/uc?id=1qy95Qpd93VClYPethMtMDJdAMBl21fnW\n",
            "To: /content/T_ONTIME_REPORTING 5.csv\n",
            "100% 69.3M/69.3M [00:00<00:00, 223MB/s]\n",
            "Downloading...\n",
            "From: https://drive.google.com/uc?id=1js5pbc_xe6kP7W4_lp6HaeXR0oAw2ZDL\n",
            "To: /content/T_ONTIME_REPORTING 6.csv\n",
            "100% 71.1M/71.1M [00:00<00:00, 174MB/s]\n",
            "Downloading...\n",
            "From: https://drive.google.com/uc?id=1qb4_uKGy0KU_4jRzaauqeObaaCQMtdBZ\n",
            "To: /content/T_ONTIME_REPORTING 7.csv\n",
            "100% 71.7M/71.7M [00:00<00:00, 85.2MB/s]\n",
            "Downloading...\n",
            "From: https://drive.google.com/uc?id=1TuC71TgrJDgpOvQVKl9jn89fAr9El1Pa\n",
            "To: /content/T_ONTIME_REPORTING 8.csv\n",
            "100% 74.9M/74.9M [00:00<00:00, 78.7MB/s]\n",
            "Downloading...\n",
            "From: https://drive.google.com/uc?id=1nt7e9Pszf2-IB3GsKHNRHZ_SPzxS0E2L\n",
            "To: /content/T_ONTIME_REPORTING 9.csv\n",
            "100% 74.3M/74.3M [00:00<00:00, 185MB/s]\n",
            "Downloading...\n",
            "From: https://drive.google.com/uc?id=1V5tCiD9jRCss0KoJxk-r1zOCw3onwez3\n",
            "To: /content/T_ONTIME_REPORTING 10.csv\n",
            "100% 69.3M/69.3M [00:00<00:00, 143MB/s]\n",
            "Downloading...\n",
            "From: https://drive.google.com/uc?id=1WsKGiVBV2p-sgiDePT6HZKUezWPc2zUH\n",
            "To: /content/T_ONTIME_REPORTING 11.csv\n",
            "100% 70.3M/70.3M [00:00<00:00, 178MB/s]\n"
          ]
        }
      ]
    },
    {
      "cell_type": "markdown",
      "source": [
        "#### Основные функции PySpark\n",
        "\n",
        "В отдельном колабе: https://colab.research.google.com/drive/1noKypPI5ymbofp0YPtRH9gYSqNPAiTAT?usp=sharing"
      ],
      "metadata": {
        "id": "5MLy27ccgVUf"
      }
    },
    {
      "cell_type": "markdown",
      "source": [
        "### Пример работы с PySpark\n",
        "Для работы с PySpark мы можем использовать SparkSession для создания сессии и работы с большими данными."
      ],
      "metadata": {
        "id": "BvR64X6zI9y1"
      }
    },
    {
      "cell_type": "code",
      "source": [
        "!sudo apt update\n",
        "!apt-get install openjdk-8-jdk-headless -qq > /dev/null\n",
        "#Check this site for the latest download link https://www.apache.org/dyn/closer.lua/spark/spark-3.5.3/spark-3.5.3-bin-hadoop3.5.tgz\n",
        "!wget -q https://dlcdn.apache.org/spark/spark-3.5.3/spark-3.5.3-bin-hadoop3.5.tgz\n",
        "!tar xf spark-3.5.3-bin-hadoop3.5.tgz\n",
        "!pip install -q findspark\n",
        "!pip install pyspark\n",
        "!pip install py4j\n",
        "\n",
        "import os\n",
        "import sys\n",
        "\n",
        "\n",
        "import findspark\n",
        "findspark.init()\n",
        "findspark.find()\n",
        "\n",
        "import pyspark\n",
        "\n",
        "from pyspark.sql import DataFrame, SparkSession\n",
        "from typing import List\n",
        "import pyspark.sql.types as T\n",
        "import pyspark.sql.functions as F\n",
        "\n",
        "spark= SparkSession \\\n",
        "       .builder \\\n",
        "       .appName(\"Our First Spark Example\") \\\n",
        "       .getOrCreate()\n",
        "\n",
        "spark"
      ],
      "metadata": {
        "colab": {
          "base_uri": "https://localhost:8080/",
          "height": 760
        },
        "id": "gQhFqiIO1A7u",
        "outputId": "edb6cf87-8e57-40f2-a194-c3c797f18291"
      },
      "execution_count": 2,
      "outputs": [
        {
          "output_type": "stream",
          "name": "stdout",
          "text": [
            "\u001b[33m\r0% [Working]\u001b[0m\r            \rHit:1 http://archive.ubuntu.com/ubuntu jammy InRelease\n",
            "\u001b[33m\r0% [Waiting for headers] [Connecting to security.ubuntu.com (185.125.190.81)] [\u001b[0m\r                                                                               \rGet:2 http://archive.ubuntu.com/ubuntu jammy-updates InRelease [128 kB]\n",
            "\r                                                                               \rGet:3 https://cloud.r-project.org/bin/linux/ubuntu jammy-cran40/ InRelease [3,626 B]\n",
            "\r                                                                               \rHit:4 https://developer.download.nvidia.com/compute/cuda/repos/ubuntu2204/x86_64  InRelease\n",
            "\u001b[33m\r0% [2 InRelease 15.6 kB/128 kB 12%] [Waiting for headers] [Waiting for headers]\u001b[0m\u001b[33m\r0% [Waiting for headers] [Waiting for headers] [Connecting to ppa.launchpadcont\u001b[0m\r                                                                               \rGet:5 http://archive.ubuntu.com/ubuntu jammy-backports InRelease [127 kB]\n",
            "\u001b[33m\r0% [5 InRelease 22.9 kB/127 kB 18%] [Waiting for headers] [Waiting for headers]\u001b[0m\r                                                                               \rGet:6 http://security.ubuntu.com/ubuntu jammy-security InRelease [129 kB]\n",
            "Get:7 https://r2u.stat.illinois.edu/ubuntu jammy InRelease [6,555 B]\n",
            "Hit:8 https://ppa.launchpadcontent.net/deadsnakes/ppa/ubuntu jammy InRelease\n",
            "Get:9 https://cloud.r-project.org/bin/linux/ubuntu jammy-cran40/ Packages [61.9 kB]\n",
            "Get:10 https://ppa.launchpadcontent.net/graphics-drivers/ppa/ubuntu jammy InRelease [24.3 kB]\n",
            "Hit:11 https://ppa.launchpadcontent.net/ubuntugis/ppa/ubuntu jammy InRelease\n",
            "Get:12 http://archive.ubuntu.com/ubuntu jammy-updates/universe amd64 Packages [1,517 kB]\n",
            "Get:13 http://archive.ubuntu.com/ubuntu jammy-updates/main amd64 Packages [2,859 kB]\n",
            "Get:14 http://archive.ubuntu.com/ubuntu jammy-updates/restricted amd64 Packages [3,663 kB]\n",
            "Get:15 https://r2u.stat.illinois.edu/ubuntu jammy/main amd64 Packages [2,642 kB]\n",
            "Get:16 https://r2u.stat.illinois.edu/ubuntu jammy/main all Packages [8,590 kB]\n",
            "Get:17 http://security.ubuntu.com/ubuntu jammy-security/universe amd64 Packages [1,226 kB]\n",
            "Get:18 http://security.ubuntu.com/ubuntu jammy-security/main amd64 Packages [2,560 kB]\n",
            "Get:19 http://security.ubuntu.com/ubuntu jammy-security/restricted amd64 Packages [3,526 kB]\n",
            "Fetched 27.1 MB in 3s (7,909 kB/s)\n",
            "Reading package lists... Done\n",
            "Building dependency tree... Done\n",
            "Reading state information... Done\n",
            "54 packages can be upgraded. Run 'apt list --upgradable' to see them.\n",
            "\u001b[1;33mW: \u001b[0mSkipping acquire of configured file 'main/source/Sources' as repository 'https://r2u.stat.illinois.edu/ubuntu jammy InRelease' does not seem to provide it (sources.list entry misspelt?)\u001b[0m\n",
            "tar: spark-3.5.3-bin-hadoop3.5.tgz: Cannot open: No such file or directory\n",
            "tar: Error is not recoverable: exiting now\n",
            "Requirement already satisfied: pyspark in /usr/local/lib/python3.10/dist-packages (3.5.4)\n",
            "Requirement already satisfied: py4j==0.10.9.7 in /usr/local/lib/python3.10/dist-packages (from pyspark) (0.10.9.7)\n",
            "Requirement already satisfied: py4j in /usr/local/lib/python3.10/dist-packages (0.10.9.7)\n"
          ]
        },
        {
          "output_type": "execute_result",
          "data": {
            "text/plain": [
              "<pyspark.sql.session.SparkSession at 0x7dabe26475b0>"
            ],
            "text/html": [
              "\n",
              "            <div>\n",
              "                <p><b>SparkSession - in-memory</b></p>\n",
              "                \n",
              "        <div>\n",
              "            <p><b>SparkContext</b></p>\n",
              "\n",
              "            <p><a href=\"http://71474b1694c7:4040\">Spark UI</a></p>\n",
              "\n",
              "            <dl>\n",
              "              <dt>Version</dt>\n",
              "                <dd><code>v3.5.4</code></dd>\n",
              "              <dt>Master</dt>\n",
              "                <dd><code>local[*]</code></dd>\n",
              "              <dt>AppName</dt>\n",
              "                <dd><code>Our First Spark Example</code></dd>\n",
              "            </dl>\n",
              "        </div>\n",
              "        \n",
              "            </div>\n",
              "        "
            ]
          },
          "metadata": {},
          "execution_count": 2
        }
      ]
    },
    {
      "cell_type": "code",
      "source": [
        "df = spark.read.csv('/content/T_ONTIME_REPORTING.csv', header=True, inferSchema=True)\n",
        "df = df.union(spark.read.csv('/content/T_ONTIME_REPORTING 2.csv', header=True, inferSchema=True))\n",
        "df = df.union(spark.read.csv('/content/T_ONTIME_REPORTING 3.csv', header=True, inferSchema=True))\n",
        "df = df.union(spark.read.csv('/content/T_ONTIME_REPORTING 4.csv', header=True, inferSchema=True))\n",
        "df = df.union(spark.read.csv('/content/T_ONTIME_REPORTING 5.csv', header=True, inferSchema=True))\n",
        "df = df.union(spark.read.csv('/content/T_ONTIME_REPORTING 6.csv', header=True, inferSchema=True))\n",
        "df = df.union(spark.read.csv('/content/T_ONTIME_REPORTING 7.csv', header=True, inferSchema=True))\n",
        "df = df.union(spark.read.csv('/content/T_ONTIME_REPORTING 8.csv', header=True, inferSchema=True))\n",
        "df = df.union(spark.read.csv('/content/T_ONTIME_REPORTING 9.csv', header=True, inferSchema=True))\n",
        "df = df.union(spark.read.csv('/content/T_ONTIME_REPORTING 10.csv', header=True, inferSchema=True))\n",
        "\n",
        "df.show()"
      ],
      "metadata": {
        "colab": {
          "base_uri": "https://localhost:8080/"
        },
        "id": "pXyPovp-ZAIk",
        "outputId": "8719f93a-67b9-4044-bd7d-45e216f15bea"
      },
      "execution_count": 3,
      "outputs": [
        {
          "output_type": "stream",
          "name": "stdout",
          "text": [
            "+----+--------------------+-----------------+-----------------+------+--------------------+---------------+----+--------------------+---------+---------+---------+-------------------+--------+-------------+-------------+---------+--------------+-------------------+\n",
            "|YEAR|             FL_DATE|OP_UNIQUE_CARRIER|ORIGIN_AIRPORT_ID|ORIGIN|    ORIGIN_CITY_NAME|DEST_AIRPORT_ID|DEST|      DEST_CITY_NAME|DEP_DELAY|ARR_DELAY|CANCELLED|ACTUAL_ELAPSED_TIME|DISTANCE|CARRIER_DELAY|WEATHER_DELAY|NAS_DELAY|SECURITY_DELAY|LATE_AIRCRAFT_DELAY|\n",
            "+----+--------------------+-----------------+-----------------+------+--------------------+---------------+----+--------------------+---------+---------+---------+-------------------+--------+-------------+-------------+---------+--------------+-------------------+\n",
            "|2024|1/1/2024 12:00:00 AM|               9E|            10135|   ABE|Allentown/Bethleh...|          10397| ATL|         Atlanta, GA|     -2.0|    -35.0|      0.0|              119.0|   692.0|         NULL|         NULL|     NULL|          NULL|               NULL|\n",
            "|2024|1/1/2024 12:00:00 AM|               9E|            10135|   ABE|Allentown/Bethleh...|          10397| ATL|         Atlanta, GA|      9.0|    -13.0|      0.0|              117.0|   692.0|         NULL|         NULL|     NULL|          NULL|               NULL|\n",
            "|2024|1/1/2024 12:00:00 AM|               9E|            10185|   AEX|      Alexandria, LA|          10397| ATL|         Atlanta, GA|    -11.0|    -26.0|      0.0|               91.0|   500.0|         NULL|         NULL|     NULL|          NULL|               NULL|\n",
            "|2024|1/1/2024 12:00:00 AM|               9E|            10185|   AEX|      Alexandria, LA|          10397| ATL|         Atlanta, GA|     -5.0|    -29.0|      0.0|               86.0|   500.0|         NULL|         NULL|     NULL|          NULL|               NULL|\n",
            "|2024|1/1/2024 12:00:00 AM|               9E|            10208|   AGS|         Augusta, GA|          10397| ATL|         Atlanta, GA|     -4.0|    -23.0|      0.0|               62.0|   143.0|         NULL|         NULL|     NULL|          NULL|               NULL|\n",
            "|2024|1/1/2024 12:00:00 AM|               9E|            10257|   ALB|          Albany, NY|          12953| LGA|        New York, NY|    -10.0|    -43.0|      0.0|               47.0|   136.0|         NULL|         NULL|     NULL|          NULL|               NULL|\n",
            "|2024|1/1/2024 12:00:00 AM|               9E|            10397|   ATL|         Atlanta, GA|          10135| ABE|Allentown/Bethleh...|     -7.0|    -12.0|      0.0|              118.0|   692.0|         NULL|         NULL|     NULL|          NULL|               NULL|\n",
            "|2024|1/1/2024 12:00:00 AM|               9E|            10397|   ATL|         Atlanta, GA|          10135| ABE|Allentown/Bethleh...|     10.0|      8.0|      0.0|              124.0|   692.0|         NULL|         NULL|     NULL|          NULL|               NULL|\n",
            "|2024|1/1/2024 12:00:00 AM|               9E|            10397|   ATL|         Atlanta, GA|          10185| AEX|      Alexandria, LA|     -9.0|    -26.0|      0.0|               98.0|   500.0|         NULL|         NULL|     NULL|          NULL|               NULL|\n",
            "|2024|1/1/2024 12:00:00 AM|               9E|            10397|   ATL|         Atlanta, GA|          10185| AEX|      Alexandria, LA|     -7.0|     -8.0|      0.0|              112.0|   500.0|         NULL|         NULL|     NULL|          NULL|               NULL|\n",
            "|2024|1/1/2024 12:00:00 AM|               9E|            10397|   ATL|         Atlanta, GA|          10208| AGS|         Augusta, GA|      1.0|     -7.0|      0.0|               51.0|   143.0|         NULL|         NULL|     NULL|          NULL|               NULL|\n",
            "|2024|1/1/2024 12:00:00 AM|               9E|            10397|   ATL|         Atlanta, GA|          10408| ATW|        Appleton, WI|    -11.0|    -17.0|      0.0|              136.0|   765.0|         NULL|         NULL|     NULL|          NULL|               NULL|\n",
            "|2024|1/1/2024 12:00:00 AM|               9E|            10397|   ATL|         Atlanta, GA|          10431| AVL|       Asheville, NC|     -4.0|    -17.0|      0.0|               48.0|   164.0|         NULL|         NULL|     NULL|          NULL|               NULL|\n",
            "|2024|1/1/2024 12:00:00 AM|               9E|            10397|   ATL|         Atlanta, GA|          10431| AVL|       Asheville, NC|     -3.0|    -21.0|      0.0|               46.0|   164.0|         NULL|         NULL|     NULL|          NULL|               NULL|\n",
            "|2024|1/1/2024 12:00:00 AM|               9E|            10397|   ATL|         Atlanta, GA|          10685| BMI|Bloomington/Norma...|     -4.0|    -14.0|      0.0|              103.0|   533.0|         NULL|         NULL|     NULL|          NULL|               NULL|\n",
            "|2024|1/1/2024 12:00:00 AM|               9E|            10397|   ATL|         Atlanta, GA|          10685| BMI|Bloomington/Norma...|     15.0|     -1.0|      0.0|               94.0|   533.0|         NULL|         NULL|     NULL|          NULL|               NULL|\n",
            "|2024|1/1/2024 12:00:00 AM|               9E|            10397|   ATL|         Atlanta, GA|          10781| BTR|     Baton Rouge, LA|     -4.0|    -11.0|      0.0|               98.0|   448.0|         NULL|         NULL|     NULL|          NULL|               NULL|\n",
            "|2024|1/1/2024 12:00:00 AM|               9E|            10397|   ATL|         Atlanta, GA|          10980| CHA|     Chattanooga, TN|     -5.0|    -17.0|      0.0|               41.0|   106.0|         NULL|         NULL|     NULL|          NULL|               NULL|\n",
            "|2024|1/1/2024 12:00:00 AM|               9E|            10397|   ATL|         Atlanta, GA|          10980| CHA|     Chattanooga, TN|     -4.0|    -13.0|      0.0|               46.0|   106.0|         NULL|         NULL|     NULL|          NULL|               NULL|\n",
            "|2024|1/1/2024 12:00:00 AM|               9E|            10397|   ATL|         Atlanta, GA|          10990| CHO| Charlottesville, VA|     -5.0|     -9.0|      0.0|               82.0|   457.0|         NULL|         NULL|     NULL|          NULL|               NULL|\n",
            "+----+--------------------+-----------------+-----------------+------+--------------------+---------------+----+--------------------+---------+---------+---------+-------------------+--------+-------------+-------------+---------+--------------+-------------------+\n",
            "only showing top 20 rows\n",
            "\n"
          ]
        }
      ]
    },
    {
      "cell_type": "markdown",
      "source": [
        "## Задание 1\n",
        "\n",
        "1. Сколько различных перевозчиков представлено в датасете?\n",
        "2. Какие 5 перевозчиков сделали наибольшее число перелетов?"
      ],
      "metadata": {
        "id": "UX_VkZuUGtOl"
      }
    },
    {
      "cell_type": "markdown",
      "source": [
        "Могут понадобиться методы:\n",
        "- dropDuplicates()\n",
        "- select()\n",
        "- groupBy()\n",
        "- orderBy()\n",
        "- limit()\n",
        "- count()"
      ],
      "metadata": {
        "id": "AOcwuTUjoz0s"
      }
    },
    {
      "cell_type": "code",
      "source": [
        "unique_carriers_count = df.select(\"OP_UNIQUE_CARRIER\").distinct().count()\n",
        "print(f\"Количество различных перевозчиков: {unique_carriers_count}\")"
      ],
      "metadata": {
        "colab": {
          "base_uri": "https://localhost:8080/"
        },
        "id": "IjjgL_RXGLIF",
        "outputId": "88f22f0d-5110-439c-c35f-8bd72dc57050"
      },
      "execution_count": 4,
      "outputs": [
        {
          "output_type": "stream",
          "name": "stdout",
          "text": [
            "Количество различных перевозчиков: 15\n"
          ]
        }
      ]
    },
    {
      "cell_type": "code",
      "source": [
        "top_carriers = (\n",
        "    df.groupBy(\"OP_UNIQUE_CARRIER\")\n",
        "      .count()\n",
        "      .orderBy(F.desc(\"count\"))\n",
        "      .limit(5)\n",
        ")\n",
        "\n",
        "top_carriers.show()\n"
      ],
      "metadata": {
        "id": "oop4qm4qMLYE",
        "colab": {
          "base_uri": "https://localhost:8080/"
        },
        "outputId": "0f8afc60-5cc8-487a-ee30-1b057a8929c7"
      },
      "execution_count": 5,
      "outputs": [
        {
          "output_type": "stream",
          "name": "stdout",
          "text": [
            "+-----------------+-------+\n",
            "|OP_UNIQUE_CARRIER|  count|\n",
            "+-----------------+-------+\n",
            "|               WN|1179623|\n",
            "|               DL| 811280|\n",
            "|               AA| 784153|\n",
            "|               UA| 602736|\n",
            "|               OO| 556873|\n",
            "+-----------------+-------+\n",
            "\n"
          ]
        }
      ]
    },
    {
      "cell_type": "markdown",
      "source": [
        "## Задание 2\n",
        "\n",
        "Найдите 10 самых частых направлений, если:\n",
        "- Направление – это пара «аэропорт вылета-аэропорт прилета»\n",
        "- Направление – это пара «город вылета-город прилета»\n",
        "- Направление – это город прилета.\n"
      ],
      "metadata": {
        "id": "rzfhELdVG1fb"
      }
    },
    {
      "cell_type": "markdown",
      "source": [
        "Могут понадобиться методы:\n",
        "- groupBy()\n",
        "- orderBy()\n",
        "- limit()\n",
        "- count()"
      ],
      "metadata": {
        "id": "O9CaTff8pH4H"
      }
    },
    {
      "cell_type": "markdown",
      "source": [
        "Направление – это пара «аэропорт вылета-аэропорт прилета»"
      ],
      "metadata": {
        "id": "1o4xRhrxIXVP"
      }
    },
    {
      "cell_type": "code",
      "source": [
        "airport_routes = (\n",
        "    df.withColumn(\"ROUTE\", F.concat_ws(\"->\", F.col(\"ORIGIN\"), F.col(\"DEST\")))\n",
        "      .groupBy(\"ROUTE\")\n",
        "      .count()\n",
        "      .orderBy(F.desc(\"count\"))\n",
        "      .limit(10)\n",
        ")\n",
        "\n",
        "airport_routes.show()\n"
      ],
      "metadata": {
        "id": "Dm-QBPZRG_3d",
        "colab": {
          "base_uri": "https://localhost:8080/"
        },
        "outputId": "4debea37-dadb-4a3e-9578-79149d214f0c"
      },
      "execution_count": 6,
      "outputs": [
        {
          "output_type": "stream",
          "name": "stdout",
          "text": [
            "+--------+-----+\n",
            "|   ROUTE|count|\n",
            "+--------+-----+\n",
            "|OGG->HNL|10504|\n",
            "|HNL->OGG|10487|\n",
            "|LAX->SFO| 9631|\n",
            "|SFO->LAX| 9631|\n",
            "|LAX->LAS| 8739|\n",
            "|LAS->LAX| 8715|\n",
            "|LGA->ORD| 8432|\n",
            "|ORD->LGA| 8432|\n",
            "|DCA->BOS| 8306|\n",
            "|BOS->DCA| 8305|\n",
            "+--------+-----+\n",
            "\n"
          ]
        }
      ]
    },
    {
      "cell_type": "markdown",
      "source": [
        "Направление – это пара «город вылета-город прилета»"
      ],
      "metadata": {
        "id": "XKfpfQFTJpD2"
      }
    },
    {
      "cell_type": "code",
      "source": [
        "city_routes = (\n",
        "    df.withColumn(\"ROUTE\", F.concat_ws(\"->\", F.col(\"ORIGIN_CITY_NAME\"), F.col(\"DEST_CITY_NAME\")))\n",
        "      .groupBy(\"ROUTE\")\n",
        "      .count()\n",
        "      .orderBy(F.desc(\"count\"))\n",
        "      .limit(10)\n",
        ")\n",
        "\n",
        "city_routes.show()\n"
      ],
      "metadata": {
        "colab": {
          "base_uri": "https://localhost:8080/"
        },
        "id": "DyBbVD3xJsQU",
        "outputId": "80dcd734-b9b5-46ba-ebec-ee7c936b8b92"
      },
      "execution_count": 7,
      "outputs": [
        {
          "output_type": "stream",
          "name": "stdout",
          "text": [
            "+--------------------+-----+\n",
            "|               ROUTE|count|\n",
            "+--------------------+-----+\n",
            "|Chicago, IL->New ...|12856|\n",
            "|New York, NY->Chi...|12855|\n",
            "|Boston, MA->New Y...|12337|\n",
            "|New York, NY->Bos...|12318|\n",
            "|Kahului, HI->Hono...|10504|\n",
            "|Honolulu, HI->Kah...|10487|\n",
            "|Miami, FL->New Yo...| 9711|\n",
            "|New York, NY->Mia...| 9709|\n",
            "|San Francisco, CA...| 9631|\n",
            "|Los Angeles, CA->...| 9631|\n",
            "+--------------------+-----+\n",
            "\n"
          ]
        }
      ]
    },
    {
      "cell_type": "markdown",
      "source": [
        "Направление – это город прилета"
      ],
      "metadata": {
        "id": "xz8lIZyzKXiX"
      }
    },
    {
      "cell_type": "code",
      "source": [
        "top_destinations = (\n",
        "    df.groupBy(\"DEST_CITY_NAME\")\n",
        "      .count()\n",
        "      .orderBy(F.desc(\"count\"))\n",
        "      .limit(10)\n",
        ")\n",
        "\n",
        "top_destinations.show()\n"
      ],
      "metadata": {
        "colab": {
          "base_uri": "https://localhost:8080/"
        },
        "id": "Bsgp0fe3KaR6",
        "outputId": "d388dc4b-8f33-4a85-9a5e-66c8686c7da0"
      },
      "execution_count": 8,
      "outputs": [
        {
          "output_type": "stream",
          "name": "stdout",
          "text": [
            "+--------------------+------+\n",
            "|      DEST_CITY_NAME| count|\n",
            "+--------------------+------+\n",
            "|         Chicago, IL|282723|\n",
            "|         Atlanta, GA|277089|\n",
            "|        New York, NY|247223|\n",
            "|          Denver, CO|237001|\n",
            "|Dallas/Fort Worth...|234809|\n",
            "|       Charlotte, NC|161726|\n",
            "|     Los Angeles, CA|160652|\n",
            "|      Washington, DC|157883|\n",
            "|       Las Vegas, NV|156322|\n",
            "|         Phoenix, AZ|150906|\n",
            "+--------------------+------+\n",
            "\n"
          ]
        }
      ]
    },
    {
      "cell_type": "markdown",
      "source": [
        "## Задание 3\n",
        "\n",
        "1. Узнайте, сколько было отмен рейсов в каждом месяце. Отсортируйте ответ по числу отмен.\n",
        "2. Для каждого месяца определите причину задержки, из-за которой было отложено больше всего рейсов."
      ],
      "metadata": {
        "id": "UcQQvorpHAej"
      }
    },
    {
      "cell_type": "markdown",
      "source": [
        "Могут понадобиться методы/функции:\n",
        "- withColumn()\n",
        "- split()\n",
        "- getItem()\n",
        "- cast()\n",
        "- groupBy()\n",
        "- orderBy()\n",
        "- sum()\n",
        "- isNotNull()\n",
        "- col()\n",
        "- when()\n",
        "- otherwise()\n",
        "- agg()\n",
        "- greatest()"
      ],
      "metadata": {
        "id": "YZfg3zaXpZrX"
      }
    },
    {
      "cell_type": "code",
      "source": [
        "from pyspark.sql.functions import split, when, col, greatest\n",
        "from pyspark.sql.functions import to_date\n",
        "\n",
        "df = df.withColumn(\"FL_DATE\", to_date(F.col(\"FL_DATE\"), \"M/d/yyyy h:mm:ss a\"))\n",
        "\n",
        "cancelled_by_month = (\n",
        "    df.withColumn(\"MONTH\", F.split(F.col(\"FL_DATE\"), \"-\").getItem(1).cast(\"int\"))\n",
        "      .filter(F.col(\"CANCELLED\") == 1)\n",
        "      .groupBy(\"MONTH\")\n",
        "      .count()\n",
        "      .orderBy(F.desc(\"count\"))\n",
        ")\n",
        "\n",
        "cancelled_by_month.show()"
      ],
      "metadata": {
        "id": "CQu7PlGUHHNd",
        "colab": {
          "base_uri": "https://localhost:8080/"
        },
        "outputId": "a77ae1d5-ba4f-4401-abf5-83bf5bbfd7bd"
      },
      "execution_count": 9,
      "outputs": [
        {
          "output_type": "stream",
          "name": "stdout",
          "text": [
            "+-----+-----+\n",
            "|MONTH|count|\n",
            "+-----+-----+\n",
            "|    1|30684|\n",
            "|    7|14606|\n",
            "|    6|12219|\n",
            "|    4| 9589|\n",
            "|    8| 9172|\n",
            "|    2| 9019|\n",
            "|    3| 7406|\n",
            "|    5| 3310|\n",
            "|   11|  819|\n",
            "+-----+-----+\n",
            "\n"
          ]
        }
      ]
    },
    {
      "cell_type": "code",
      "source": [
        "from pyspark.sql.functions import month, to_timestamp\n",
        "\n",
        "dfM = df.withColumn(\"MONTH\", month(to_timestamp(\"FL_DATE\", \"M/d/yyyy hh:mm:ss a\")))\n",
        "\n",
        "monthly_delays = dfM.groupBy(\"MONTH\").agg(\n",
        "    F.sum(F.when((F.col(\"CARRIER_DELAY\").isNotNull()) & (F.col(\"CARRIER_DELAY\") != 0), 1).otherwise(0)).alias(\"CARRIER\"),\n",
        "    F.sum(F.when((F.col(\"WEATHER_DELAY\").isNotNull()) & (F.col(\"WEATHER_DELAY\") != 0), 1).otherwise(0)).alias(\"WEATHER\"),\n",
        "    F.sum(F.when((F.col(\"NAS_DELAY\").isNotNull()) & (F.col(\"NAS_DELAY\") != 0), 1).otherwise(0)).alias(\"NAS\"),\n",
        "    F.sum(F.when((F.col(\"SECURITY_DELAY\").isNotNull()) & (F.col(\"SECURITY_DELAY\") != 0), 1).otherwise(0)).alias(\"SECURITY\"),\n",
        "    F.sum(F.when((F.col(\"LATE_AIRCRAFT_DELAY\").isNotNull()) & (F.col(\"LATE_AIRCRAFT_DELAY\") != 0), 1).otherwise(0)).alias(\"LATE_AIRCRAFT\")\n",
        ")\n",
        "\n",
        "most_common_reasons = monthly_delays.withColumn(\n",
        "    \"MAX_VALUE\",\n",
        "    F.greatest(\"CARRIER\", \"WEATHER\", \"NAS\", \"SECURITY\", \"LATE_AIRCRAFT\")\n",
        ").withColumn(\n",
        "    \"REASON\",\n",
        "    F.when(F.col(\"CARRIER\") == F.col(\"MAX_VALUE\"), \"CARRIER\")\n",
        "    .when(F.col(\"WEATHER\") == F.col(\"MAX_VALUE\"), \"WEATHER\")\n",
        "    .when(F.col(\"NAS\") == F.col(\"MAX_VALUE\"), \"NAS\")\n",
        "    .when(F.col(\"SECURITY\") == F.col(\"MAX_VALUE\"), \"SECURITY\")\n",
        "    .when(F.col(\"LATE_AIRCRAFT\") == F.col(\"MAX_VALUE\"), \"LATE_AIRCRAFT\")\n",
        ").select(\"MONTH\", \"REASON\", \"MAX_VALUE\")\n",
        "\n",
        "most_common_reasons.show()\n"
      ],
      "metadata": {
        "colab": {
          "base_uri": "https://localhost:8080/"
        },
        "id": "KHUW0yyCNoMc",
        "outputId": "b358e30d-6262-4bce-bfe7-c8593400d44c"
      },
      "execution_count": 10,
      "outputs": [
        {
          "output_type": "stream",
          "name": "stdout",
          "text": [
            "+-----+-------+---------+\n",
            "|MONTH| REASON|MAX_VALUE|\n",
            "+-----+-------+---------+\n",
            "|    1|CARRIER|   129636|\n",
            "|    2|CARRIER|    52610|\n",
            "|    3|CARRIER|    74965|\n",
            "|    4|CARRIER|    71710|\n",
            "|    5|CARRIER|    62261|\n",
            "|    6|CARRIER|    87780|\n",
            "|    7|CARRIER|    96439|\n",
            "|    8|CARRIER|    73114|\n",
            "|   11|CARRIER|    44524|\n",
            "+-----+-------+---------+\n",
            "\n"
          ]
        }
      ]
    },
    {
      "cell_type": "markdown",
      "source": [
        "## Задание 4\n",
        "\n",
        "Создайте и обучите модель логистической регрессии для предсказания отмены рейса."
      ],
      "metadata": {
        "id": "d05KbNOpezPb"
      }
    },
    {
      "cell_type": "markdown",
      "source": [
        "Закодируйте категориальные признаки в one-hot формат: разбейте столбец из $n$ категорий на $n$ столбцов, где в каждой строке $1$ будет стоять в том столбце, название которого раньше было категорией, к которой относится этот объект.\n",
        "\n",
        "Сначала закодируем таким образом столбец с перевозчиком (`OP_UNIQUE_CARRIER`)."
      ],
      "metadata": {
        "id": "onSZOsn-qQk3"
      }
    },
    {
      "cell_type": "code",
      "source": [
        "from pyspark.ml.feature import StringIndexer, OneHotEncoder\n",
        "\n",
        "carr_indexer = StringIndexer(inputCol=\"OP_UNIQUE_CARRIER\", outputCol=\"carrier_index\")\n",
        "carr_encoder = OneHotEncoder(inputCol=\"carrier_index\", outputCol=\"carrier_fact\")"
      ],
      "metadata": {
        "id": "GEAAt3oxe6VU"
      },
      "execution_count": 11,
      "outputs": []
    },
    {
      "cell_type": "markdown",
      "source": [
        "Столбцы `ORIGIN` (пункт вылета) и `DEST` (пункт прилета) закодируйте аналогично самостоятельно."
      ],
      "metadata": {
        "id": "sCY0voDWqsvv"
      }
    },
    {
      "cell_type": "code",
      "source": [
        "origin_indexer = StringIndexer(inputCol=\"ORIGIN\", outputCol=\"origin_index\")\n",
        "origin_encoder = OneHotEncoder(inputCol=\"origin_index\", outputCol=\"origin_fact\")\n",
        "\n",
        "dest_indexer = StringIndexer(inputCol=\"DEST\", outputCol=\"dest_index\")\n",
        "dest_encoder = OneHotEncoder(inputCol=\"dest_index\", outputCol=\"dest_fact\")"
      ],
      "metadata": {
        "id": "hl3q8M1lfplQ"
      },
      "execution_count": 12,
      "outputs": []
    },
    {
      "cell_type": "markdown",
      "source": [
        "Выделите целевую переменную. Ее важно назвать `label`. По этому названию дальше метод `fit()` отличит ее от других столбцов. Целевая переменная должна получиться из значений столбца `CANCELLED` (отмена рейса)."
      ],
      "metadata": {
        "id": "4ECgSa4NrBWP"
      }
    },
    {
      "cell_type": "code",
      "source": [
        "dfM = dfM.withColumn(\"label\", col(\"CANCELLED\").cast(\"int\"))"
      ],
      "metadata": {
        "id": "kov_B5gjiGot"
      },
      "execution_count": 13,
      "outputs": []
    },
    {
      "cell_type": "markdown",
      "source": [
        "Соберите все признаки, которые будут использоваться для обучения, в один вектор `features`. В столбце `DATE` должен лежать месяц, в который был совершен рейс."
      ],
      "metadata": {
        "id": "5SBH4xcfreKx"
      }
    },
    {
      "cell_type": "code",
      "source": [
        "from pyspark.ml.feature import VectorAssembler\n",
        "\n",
        "vec_assembler = VectorAssembler(inputCols=[\"MONTH\", \"DISTANCE\", \"carrier_fact\", \"dest_fact\", \"origin_fact\"], outputCol=\"features\")"
      ],
      "metadata": {
        "id": "2Yncr9WTf_ys"
      },
      "execution_count": 14,
      "outputs": []
    },
    {
      "cell_type": "markdown",
      "source": [
        "Объедините все предобработки в один пайплайн. Он будет состоять из кодирования категориальных переменных и объединения новых столбцов с некоторыми старыми в матрицу признаков."
      ],
      "metadata": {
        "id": "PvwmSvieroRJ"
      }
    },
    {
      "cell_type": "code",
      "source": [
        "from pyspark.ml import Pipeline\n",
        "\n",
        "flights_pipe = Pipeline(stages=[dest_indexer, dest_encoder, carr_indexer, carr_encoder, origin_indexer, origin_encoder, vec_assembler])"
      ],
      "metadata": {
        "id": "l6xM3-kKgbMa"
      },
      "execution_count": 15,
      "outputs": []
    },
    {
      "cell_type": "markdown",
      "source": [
        "Выполните созданный пайплайн."
      ],
      "metadata": {
        "id": "LQXPbhnVr5hj"
      }
    },
    {
      "cell_type": "code",
      "source": [
        "piped_data = flights_pipe.fit(dfM).transform(dfM)"
      ],
      "metadata": {
        "id": "e4kFC9uXg7gR"
      },
      "execution_count": 16,
      "outputs": []
    },
    {
      "cell_type": "markdown",
      "source": [
        "Разделите датасет на тренировочную и тестовую выборки."
      ],
      "metadata": {
        "id": "lj5YR5Qfr74U"
      }
    },
    {
      "cell_type": "code",
      "source": [
        "training, test = piped_data.randomSplit([.7, .3])"
      ],
      "metadata": {
        "id": "WtcixzF8hHfW"
      },
      "execution_count": 17,
      "outputs": []
    },
    {
      "cell_type": "markdown",
      "source": [
        "Создайте модель – логистическую регрессию."
      ],
      "metadata": {
        "id": "KSeyZRH-r_5l"
      }
    },
    {
      "cell_type": "code",
      "source": [
        "from pyspark.ml.classification import LogisticRegression\n",
        "\n",
        "lr = LogisticRegression()"
      ],
      "metadata": {
        "id": "yF7w9InvhJvQ"
      },
      "execution_count": 18,
      "outputs": []
    },
    {
      "cell_type": "markdown",
      "source": [
        "Введите метрику оценки качества предсказания – ROC-AUC. Метрика рассчитывается на основе матрицы неточностей. Чем ближе она к 1, тем качественнее классификатор. Значение 0.5 означает, что предсказания случайны."
      ],
      "metadata": {
        "id": "-7i9Bvs4sD_1"
      }
    },
    {
      "cell_type": "markdown",
      "source": [
        "![image.png](data:image/png;base64,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)"
      ],
      "metadata": {
        "id": "lYXnG6t0sR6g"
      }
    },
    {
      "cell_type": "code",
      "source": [
        "import pyspark.ml.evaluation as evals\n",
        "\n",
        "evaluator = evals.BinaryClassificationEvaluator(metricName=\"areaUnderROC\")"
      ],
      "metadata": {
        "id": "PwdbuqLchR17"
      },
      "execution_count": 19,
      "outputs": []
    },
    {
      "cell_type": "markdown",
      "source": [
        "Обучите модель."
      ],
      "metadata": {
        "id": "8DaHuBGYs99Q"
      }
    },
    {
      "cell_type": "code",
      "source": [
        "model = lr.fit(training)\n",
        "print(model)"
      ],
      "metadata": {
        "colab": {
          "base_uri": "https://localhost:8080/"
        },
        "id": "K5dFjtLshj7w",
        "outputId": "66bc6263-6428-4937-c4cb-214d1dcec5c7"
      },
      "execution_count": 20,
      "outputs": [
        {
          "output_type": "stream",
          "name": "stdout",
          "text": [
            "LogisticRegressionModel: uid=LogisticRegression_6ef2a8c7f7e0, numClasses=2, numFeatures=712\n"
          ]
        }
      ]
    },
    {
      "cell_type": "markdown",
      "source": [
        "Протестируйте модель."
      ],
      "metadata": {
        "id": "NfDAAEals_4o"
      }
    },
    {
      "cell_type": "code",
      "source": [
        "test_results = model.transform(test)\n",
        "print(evaluator.evaluate(test_results))"
      ],
      "metadata": {
        "colab": {
          "base_uri": "https://localhost:8080/"
        },
        "id": "mChxh8ipikXB",
        "outputId": "5149dce9-498c-4163-d286-be4a6776ead9"
      },
      "execution_count": 21,
      "outputs": [
        {
          "output_type": "stream",
          "name": "stdout",
          "text": [
            "0.6662328371786596\n"
          ]
        }
      ]
    },
    {
      "cell_type": "markdown",
      "source": [
        "Точность классификатора – чуть меньше 0.7. Результат посредственный. Проведите несколько экспериментов с предобработкой и ответьте на следующие вопросы:\n",
        "1. Повысится ли качество, если не использовать данные о пункте вылета?\n",
        "2. Повысится ли качество, если не использовать данные о пункте прилета?\n",
        "3. Повысится ли качество, если не использовать данные о перевозчике?\n",
        "4. Повысится ли качество, если не использовать данные о месяце перелета?\n",
        "5. Повысится ли качество, если задать направление полета иначе (см. задание 2)?"
      ],
      "metadata": {
        "id": "DjgXySEXtBgk"
      }
    },
    {
      "cell_type": "markdown",
      "source": [
        "задание 1"
      ],
      "metadata": {
        "id": "u2ytiadgbPtX"
      }
    },
    {
      "cell_type": "code",
      "source": [
        "vec_assembler_no_origin = VectorAssembler(inputCols=[\"MONTH\", \"DISTANCE\", \"carrier_fact\", \"dest_fact\"], outputCol=\"features\")\n",
        "flights_pipe_no_origin = Pipeline(stages=[dest_indexer, dest_encoder, carr_indexer, carr_encoder, vec_assembler_no_origin])\n",
        "\n",
        "piped_data_no_origin = flights_pipe_no_origin.fit(dfM).transform(dfM)\n",
        "training_no_origin, test_no_origin = piped_data_no_origin.randomSplit([.7, .3])\n",
        "\n",
        "model_no_origin = lr.fit(training_no_origin)\n",
        "test_results_no_origin = model_no_origin.transform(test_no_origin)\n",
        "\n",
        "roc_no_origin = evaluator.evaluate(test_results_no_origin)\n",
        "print(f\"ROC без данных о пункте вылета: {roc_no_origin}\")"
      ],
      "metadata": {
        "id": "UY03331XimQ9",
        "colab": {
          "base_uri": "https://localhost:8080/"
        },
        "outputId": "83498711-492c-413b-89b2-a7acf9157e9d"
      },
      "execution_count": 23,
      "outputs": [
        {
          "output_type": "stream",
          "name": "stdout",
          "text": [
            "ROC без данных о пункте вылета: 0.6487377859731082\n"
          ]
        }
      ]
    },
    {
      "cell_type": "markdown",
      "source": [
        "задание 2"
      ],
      "metadata": {
        "id": "KDu_aa0UbSQ7"
      }
    },
    {
      "cell_type": "code",
      "source": [
        "vec_assembler_no_dest = VectorAssembler(inputCols=[\"MONTH\", \"DISTANCE\", \"carrier_fact\", \"origin_fact\"], outputCol=\"features\")\n",
        "flights_pipe_no_dest = Pipeline(stages=[carr_indexer, carr_encoder, origin_indexer, origin_encoder, vec_assembler_no_dest])\n",
        "\n",
        "piped_data_no_dest = flights_pipe_no_dest.fit(dfM).transform(dfM)\n",
        "training_no_dest, test_no_dest = piped_data_no_dest.randomSplit([.7, .3])\n",
        "\n",
        "model_no_dest = lr.fit(training_no_dest)\n",
        "test_results_no_dest = model_no_dest.transform(test_no_dest)\n",
        "\n",
        "roc_no_dest = evaluator.evaluate(test_results_no_dest)\n",
        "print(f\"ROC без данных о пункте прилета: {roc_no_dest}\")"
      ],
      "metadata": {
        "id": "g3rgcpVcbTTZ",
        "colab": {
          "base_uri": "https://localhost:8080/"
        },
        "outputId": "6bfa1314-33fa-496c-cb17-abf0e218d0dd"
      },
      "execution_count": 24,
      "outputs": [
        {
          "output_type": "stream",
          "name": "stdout",
          "text": [
            "ROC без данных о пункте прилета: 0.6462219649750326\n"
          ]
        }
      ]
    },
    {
      "cell_type": "markdown",
      "source": [
        "задание 3"
      ],
      "metadata": {
        "id": "VCJfMVpBbTvC"
      }
    },
    {
      "cell_type": "code",
      "source": [
        "vec_assembler_no_carrier = VectorAssembler(inputCols=[\"MONTH\", \"DISTANCE\", \"dest_fact\", \"origin_fact\"], outputCol=\"features\")\n",
        "flights_pipe_no_carrier = Pipeline(stages=[dest_indexer, dest_encoder, origin_indexer, origin_encoder, vec_assembler_no_carrier])\n",
        "\n",
        "piped_data_no_carrier = flights_pipe_no_carrier.fit(dfM).transform(dfM)\n",
        "training_no_carrier, test_no_carrier = piped_data_no_carrier.randomSplit([.7, .3])\n",
        "\n",
        "model_no_carrier = lr.fit(training_no_carrier)\n",
        "test_results_no_carrier = model_no_carrier.transform(test_no_carrier)\n",
        "\n",
        "roc_no_carrier = evaluator.evaluate(test_results_no_carrier)\n",
        "print(f\"ROC без данных о перевозчике: {roc_no_carrier}\")"
      ],
      "metadata": {
        "id": "HYFkeNyDbUld",
        "colab": {
          "base_uri": "https://localhost:8080/"
        },
        "outputId": "558bf22d-98e5-4769-8a87-b632f2c8ca91"
      },
      "execution_count": 25,
      "outputs": [
        {
          "output_type": "stream",
          "name": "stdout",
          "text": [
            "ROC без данных о перевозчике: 0.6566770116127446\n"
          ]
        }
      ]
    },
    {
      "cell_type": "markdown",
      "source": [
        "задание 4"
      ],
      "metadata": {
        "id": "9KfP8TzqbU_Y"
      }
    },
    {
      "cell_type": "code",
      "source": [
        "vec_assembler_no_month = VectorAssembler(inputCols=[\"DISTANCE\", \"carrier_fact\", \"dest_fact\", \"origin_fact\"], outputCol=\"features\")\n",
        "flights_pipe_no_month = Pipeline(stages=[dest_indexer, dest_encoder, carr_indexer, carr_encoder, origin_indexer, origin_encoder, vec_assembler_no_month])\n",
        "\n",
        "piped_data_no_month = flights_pipe_no_month.fit(dfM).transform(dfM)\n",
        "training_no_month, test_no_month = piped_data_no_month.randomSplit([.7, .3])\n",
        "\n",
        "model_no_month = lr.fit(training_no_month)\n",
        "test_results_no_month = model_no_month.transform(test_no_month)\n",
        "\n",
        "roc_no_month = evaluator.evaluate(test_results_no_month)\n",
        "print(f\"ROC без данных о месяце перелета: {roc_no_month}\")"
      ],
      "metadata": {
        "id": "780k6ngbbVvx",
        "colab": {
          "base_uri": "https://localhost:8080/"
        },
        "outputId": "cd79bb7c-bcfa-4c68-cdce-9ccb983016c6"
      },
      "execution_count": 26,
      "outputs": [
        {
          "output_type": "stream",
          "name": "stdout",
          "text": [
            "ROC без данных о месяце перелета: 0.6375005231517067\n"
          ]
        }
      ]
    },
    {
      "cell_type": "markdown",
      "source": [
        "задание 5"
      ],
      "metadata": {
        "id": "Uqb19TfHbWCK"
      }
    },
    {
      "cell_type": "code",
      "source": [
        "from pyspark.sql.functions import concat\n",
        "\n",
        "dfM = dfM.withColumn(\"ROUTE\", concat(col(\"ORIGIN\"), F.lit(\"-\"), col(\"DEST\")))\n",
        "\n",
        "route_indexer = StringIndexer(inputCol=\"ROUTE\", outputCol=\"route_index\")\n",
        "route_encoder = OneHotEncoder(inputCol=\"route_index\", outputCol=\"route_fact\")\n",
        "\n",
        "vec_assembler_with_route = VectorAssembler(inputCols=[\"MONTH\", \"DISTANCE\", \"carrier_fact\", \"route_fact\"], outputCol=\"features\")\n",
        "flights_pipe_with_route = Pipeline(stages=[carr_indexer, carr_encoder, route_indexer, route_encoder, vec_assembler_with_route])\n",
        "\n",
        "piped_data_with_route = flights_pipe_with_route.fit(dfM).transform(dfM)\n",
        "training_with_route, test_with_route = piped_data_with_route.randomSplit([.7, .3])\n",
        "\n",
        "model_with_route = lr.fit(training_with_route)\n",
        "test_results_with_route = model_with_route.transform(test_with_route)\n",
        "\n",
        "roc_with_route = evaluator.evaluate(test_results_with_route)\n",
        "print(f\"ROC с направлением как пара ORIGIN-DEST: {roc_with_route}\")"
      ],
      "metadata": {
        "id": "nHd8uoYtbW-7",
        "colab": {
          "base_uri": "https://localhost:8080/"
        },
        "outputId": "107afc7e-b660-4130-ab48-c3ac2687eb4d"
      },
      "execution_count": 27,
      "outputs": [
        {
          "output_type": "stream",
          "name": "stdout",
          "text": [
            "ROC с направлением как пара ORIGIN-DEST: 0.6654968223169132\n"
          ]
        }
      ]
    },
    {
      "cell_type": "markdown",
      "source": [
        "Результат не изменился, в некотрых случаях даже уменьшился на одну сотую\n"
      ],
      "metadata": {
        "id": "1DUTYUOjj-rW"
      }
    },
    {
      "cell_type": "markdown",
      "source": [
        "## Куда сдавать?\n",
        "\n",
        "По инструкции в гитхаб – https://shy-question-39d.notion.site/1150ea832e418032bfc3d3e827c380fb?pvs=74\n",
        "\n",
        "- К этой работе тестов нет.\n",
        "- Загружайте в формате .ipynb, а не ссылкой на колаб.\n",
        "- Пул-реквест нужно сделать в ветку `lab1`.\n",
        "\n",
        "**Устная защита работ не требуется, но вам могут быть заданы вопросы прямо в вашем пул-реквесте!**"
      ],
      "metadata": {
        "id": "eFJYYNSfGyQ-"
      }
    },
    {
      "cell_type": "code",
      "source": [],
      "metadata": {
        "id": "bjsfbERMHThP"
      },
      "execution_count": null,
      "outputs": []
    }
  ]
}